{
  "nbformat": 4,
  "nbformat_minor": 0,
  "metadata": {
    "colab": {
      "provenance": [],
      "authorship_tag": "ABX9TyO40TQx3RMmVOYEKbhtia/s",
      "include_colab_link": true
    },
    "kernelspec": {
      "name": "python3",
      "display_name": "Python 3"
    },
    "language_info": {
      "name": "python"
    }
  },
  "cells": [
    {
      "cell_type": "markdown",
      "metadata": {
        "id": "view-in-github",
        "colab_type": "text"
      },
      "source": [
        "<a href=\"https://colab.research.google.com/github/hichamtalha/Ateliers/blob/main/Atelier3.ipynb\" target=\"_parent\"><img src=\"https://colab.research.google.com/assets/colab-badge.svg\" alt=\"Open In Colab\"/></a>"
      ]
    },
    {
      "cell_type": "markdown",
      "source": [
        "MASTER : Data Science pour l'économie et la finance\n",
        "\n",
        "Hicham TALHA\n",
        "\n",
        "Atelier 3"
      ],
      "metadata": {
        "id": "9-UBcdnbKtF1"
      }
    },
    {
      "cell_type": "markdown",
      "source": [
        "**Définir une classe Vecteur2D**"
      ],
      "metadata": {
        "id": "7Ol5gxyR9Via"
      }
    },
    {
      "cell_type": "code",
      "execution_count": null,
      "metadata": {
        "colab": {
          "base_uri": "https://localhost:8080/"
        },
        "id": "bl5QDinV5THY",
        "outputId": "a5ed9f75-128d-413b-8b50-ac7fec8e83bc"
      },
      "outputs": [
        {
          "output_type": "stream",
          "name": "stdout",
          "text": [
            "(x= 0 ; y=0)\n",
            "(x= 2 ; y=3)\n",
            "(x= 2 ; y=3)\n"
          ]
        }
      ],
      "source": [
        "class Vector2D:\n",
        "    def __init__(self, x=0,y=0):\n",
        "        self.x = x\n",
        "        self.y = y\n",
        "\n",
        "    def show(self):\n",
        "        return \"(\" + \"x= \" + str(self.x) +\" ;\" \" y=\" + str(self.y) + \")\"\n",
        "\n",
        "    def __add__(self,other):\n",
        "        ax= self.x + other.x\n",
        "        ay= self.y + other.y\n",
        "        return Vector2D(ax,ay)\n",
        "\n",
        "v1 = Vector2D()\n",
        "\n",
        "v2 = Vector2D(2,3)\n",
        "\n",
        "\n",
        "print(v1.show())\n",
        "print(v2.show())\n",
        "\n",
        "v3= v1 + v2\n",
        "print(v3.show())      \n"
      ]
    },
    {
      "cell_type": "markdown",
      "source": [
        "**Définir une classe Rectangle et une classe Carré hirté de la classe Rectangle**"
      ],
      "metadata": {
        "id": "EJF2dy1o_iL8"
      }
    },
    {
      "cell_type": "code",
      "source": [
        "from ctypes import CFUNCTYPE\n",
        "class Rectangle:\n",
        "\n",
        "    def __init__(self, L=0 ,W=0):\n",
        "        self.name=\"rectangle\"\n",
        "        self.longueur= L  \n",
        "        self.largeur= W  \n",
        "    def show(self):\n",
        "\n",
        "        return \"nom: \"+self.name +\" ,\"+\" longueur =\" +str(self.longueur) +\" ,\"+ \" largeur = \"+str(self.largeur)\n",
        "\n",
        "    def surface(self):\n",
        "        return \"surface : \"+str(self.largeur * self.longueur)\n",
        "  \n",
        "R= Rectangle(3,7)\n",
        "\n",
        "print(R.show())\n",
        "print(R.surface())\n",
        "\n",
        "class Carre(Rectangle):\n",
        "\n",
        "    def __init__(self, L=0):\n",
        "      self.name = \"carré\"\n",
        "      super().__init__(L=L, W=L)\n",
        "\n",
        "C= Carre(4)\n",
        "print(C.show())\n",
        "print(C.surface())"
      ],
      "metadata": {
        "colab": {
          "base_uri": "https://localhost:8080/"
        },
        "id": "RMPThMxLCj86",
        "outputId": "f4181cb8-39ac-4414-ecc7-950e8685a151"
      },
      "execution_count": 48,
      "outputs": [
        {
          "output_type": "stream",
          "name": "stdout",
          "text": [
            "nom: rectangle , longueur =3 , largeur = 7\n",
            "surface : 21\n",
            "nom: rectangle , longueur =4 , largeur = 4\n",
            "surface : 16\n"
          ]
        }
      ]
    },
    {
      "cell_type": "markdown",
      "source": [
        "**Définir une classe Point et Segment**"
      ],
      "metadata": {
        "id": "TloFGmj3HkNq"
      }
    },
    {
      "cell_type": "code",
      "source": [
        "class Point:\n",
        "    \n",
        "    def __init__(self,x=0.0,y=0.0):\n",
        "        self.x = x\n",
        "        self.y = y\n",
        "    def show(self):\n",
        "        return \"(\"+str(self.x)+\",\"+str(self.y)+\")\"\n",
        "\n",
        "class Segment:\n",
        "\n",
        "    def __init__(self,org,ext):\n",
        "            self.org = Point(org.x,org.y)\n",
        "            self.ext = Point(ext.x,ext.y)\n",
        "    def show_seg(self):\n",
        "        return \"Segment [\"+ self.org.show() + \", \"+ self.ext.show() + \"]\"\n",
        "\n",
        "p1 = Point(1,2)\n",
        "p2 = Point(3,4)\n",
        "\n",
        "print(\"Point \"+p1.show())\n",
        "\n",
        "S= Segment(p1,p2)\n",
        "print(S.show_seg())"
      ],
      "metadata": {
        "colab": {
          "base_uri": "https://localhost:8080/"
        },
        "id": "LyoJ76vmHkcU",
        "outputId": "1d481dd1-8b2e-473e-9e51-fc3fb5aadedd"
      },
      "execution_count": 59,
      "outputs": [
        {
          "output_type": "stream",
          "name": "stdout",
          "text": [
            "Point (1,2)\n",
            "Segment [(1,2), (3,4)]\n"
          ]
        }
      ]
    }
  ]
}