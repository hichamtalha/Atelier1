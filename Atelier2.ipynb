{
  "nbformat": 4,
  "nbformat_minor": 0,
  "metadata": {
    "colab": {
      "provenance": [],
      "authorship_tag": "ABX9TyOkxG/Nh/6Jgdco1HZePC5S",
      "include_colab_link": true
    },
    "kernelspec": {
      "name": "python3",
      "display_name": "Python 3"
    },
    "language_info": {
      "name": "python"
    }
  },
  "cells": [
    {
      "cell_type": "markdown",
      "metadata": {
        "id": "view-in-github",
        "colab_type": "text"
      },
      "source": [
        "<a href=\"https://colab.research.google.com/github/hichamtalha/Ateliers/blob/main/Atelier2.ipynb\" target=\"_parent\"><img src=\"https://colab.research.google.com/assets/colab-badge.svg\" alt=\"Open In Colab\"/></a>"
      ]
    },
    {
      "cell_type": "markdown",
      "source": [
        "MASTER Data Science pour l'Economie et la Finance\n",
        "\n",
        "Hicham TALHA\n",
        "\n",
        "Enacdré par : Mr. EL AACHAK Lotfi\n",
        "\n",
        "Atelier 2"
      ],
      "metadata": {
        "id": "cQyd7Zh4z1ZB"
      }
    },
    {
      "cell_type": "markdown",
      "source": [
        "1. Créer une liste en choisissant des éléments d'index impair dans la première liste et des\n",
        "éléments d'index pair dans la seconde.\n",
        "Étant donné deux listes, l1 et l2, écrivez un programme pour créer une troisième liste l3 en\n",
        "choisissant un élément d'indice impair dans la liste l1 et des éléments d'indice pair dans la liste\n",
        "l2."
      ],
      "metadata": {
        "id": "XzGFu1cfA34A"
      }
    },
    {
      "cell_type": "code",
      "execution_count": null,
      "metadata": {
        "colab": {
          "base_uri": "https://localhost:8080/"
        },
        "id": "sPQRVvxJApg6",
        "outputId": "8c5ed201-3da2-4a7c-d3b3-1875505538bf"
      },
      "outputs": [
        {
          "output_type": "stream",
          "name": "stdout",
          "text": [
            "[3, 7, 37, 2, 9, 12, 4]\n"
          ]
        }
      ],
      "source": [
        "L1=[9,3,4,7,19,37,13]\n",
        "L2=[2,8,9,24,12,16,4]\n",
        "L3=[]\n",
        "for i in range(0,len(L1)):\n",
        "   if i % 2 != 0:\n",
        "        L3.append(L1[i])\n",
        "for i in range(0,len(L2)):\n",
        "   if i % 2 == 0:\n",
        "        L3.append(L2[i])\n",
        "print(L3)"
      ]
    },
    {
      "cell_type": "markdown",
      "source": [
        "2. Deviser la liste en 3 morceaux égaux et inverser chaque morceau\n"
      ],
      "metadata": {
        "id": "66VW0JmyBMJD"
      }
    },
    {
      "cell_type": "code",
      "source": [
        "import numpy as np\n",
        "Liste=[1,8,5,14,4,2,15,23,7]\n",
        "n = len(Liste)//3\n",
        "splits = np.array_split(Liste, n)\n",
        "for array in splits:\n",
        "  print(list(array))\n",
        "  print(list(reversed(array)))\n",
        "  print(\"=======\")"
      ],
      "metadata": {
        "colab": {
          "base_uri": "https://localhost:8080/"
        },
        "id": "rHvNd_N6BOuF",
        "outputId": "330bf5b2-1e17-4a0f-9ca5-4e71993ba6be"
      },
      "execution_count": null,
      "outputs": [
        {
          "output_type": "stream",
          "name": "stdout",
          "text": [
            "[1, 8, 5]\n",
            "[5, 8, 1]\n",
            "=======\n",
            "[14, 4, 2]\n",
            "[2, 4, 14]\n",
            "=======\n",
            "[15, 23, 7]\n",
            "[7, 23, 15]\n",
            "=======\n"
          ]
        }
      ]
    },
    {
      "cell_type": "markdown",
      "source": [
        "3. Écrire un programme pour itérer une liste donnée et compter l'occurrence de chaque élément et\n",
        "créer un dictionnaire pour montrer le nombre de chaque élément."
      ],
      "metadata": {
        "id": "KDjAEWiaYL7y"
      }
    },
    {
      "cell_type": "code",
      "source": [
        "from collections import defaultdict\n",
        "\n",
        "def count_occur(lst):\n",
        "  dic=dict()\n",
        "  d = defaultdict(int)\n",
        "  for i in list:\n",
        "    d[i] += 1\n",
        "  return d\n",
        "list = [5, 5, 1, 3, 2, 3, 1, 2, 2]\n",
        "d = count_occur(list)\n",
        "print(dict(d)) "
      ],
      "metadata": {
        "colab": {
          "base_uri": "https://localhost:8080/"
        },
        "id": "cyld7se9YR0h",
        "outputId": "77c9b89b-2248-497a-d39a-af714f9273ee"
      },
      "execution_count": 29,
      "outputs": [
        {
          "output_type": "stream",
          "name": "stdout",
          "text": [
            "{5: 2, 1: 2, 3: 2, 2: 3}\n"
          ]
        }
      ]
    },
    {
      "cell_type": "markdown",
      "source": [
        "4. Trouver l'intersection (commune) de deux Sets et supprimez ces éléments du premier Set"
      ],
      "metadata": {
        "id": "sgLugNRIkuYy"
      }
    },
    {
      "cell_type": "code",
      "source": [
        "set1 ={4, 7, 3, 4, 2,5}\n",
        "set2 ={2, 4, 1, 1, 7}\n",
        "intersection = set1 & set2\n",
        "print(\"intersection\",intersection)\n",
        "set1=set1-intersection\n",
        "print(\"set1 après suppression :\",set1)"
      ],
      "metadata": {
        "colab": {
          "base_uri": "https://localhost:8080/"
        },
        "id": "WldTxz36kynR",
        "outputId": "24724580-ce1c-4162-f74a-161cda636d54"
      },
      "execution_count": 4,
      "outputs": [
        {
          "output_type": "stream",
          "name": "stdout",
          "text": [
            "intersection {2, 4, 7}\n",
            "set1 après suppression : {3, 5}\n"
          ]
        }
      ]
    },
    {
      "cell_type": "markdown",
      "source": [
        "5. Itérer une liste donnée et vérifier si un élément donné existe en tant que valeur de clé dans\n",
        "un dictionnaire. Sinon, supprimez-le de la liste"
      ],
      "metadata": {
        "id": "eNivpMc0qb32"
      }
    },
    {
      "cell_type": "code",
      "source": [
        "list = [2,7,4,3,5]\n",
        "def filter_list(list, dictionary):\n",
        "  for i in list:\n",
        "    if i not in dictionary:\n",
        "      list.remove(i)\n",
        "  return list\n",
        "dictionary = {3: \"Hicham\", 7: \"DSEF\", 2: \"Python\"}\n",
        "filtered_list = filter_list(list, dictionary)\n",
        "print(filtered_list)"
      ],
      "metadata": {
        "colab": {
          "base_uri": "https://localhost:8080/"
        },
        "id": "x7WbUXWiyfM2",
        "outputId": "1a8167d9-24f1-458b-c6d6-a77d4633314b"
      },
      "execution_count": 28,
      "outputs": [
        {
          "output_type": "stream",
          "name": "stdout",
          "text": [
            "[2, 7, 3]\n"
          ]
        }
      ]
    }
  ]
}