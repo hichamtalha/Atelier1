{
  "cells": [
    {
      "cell_type": "markdown",
      "metadata": {
        "id": "view-in-github",
        "colab_type": "text"
      },
      "source": [
        "<a href=\"https://colab.research.google.com/github/hichamtalha/Atelier1/blob/main/Atelier1.ipynb\" target=\"_parent\"><img src=\"https://colab.research.google.com/assets/colab-badge.svg\" alt=\"Open In Colab\"/></a>"
      ]
    },
    {
      "cell_type": "markdown",
      "source": [
        "MASTER Data Science pour l'Economie et la Finance\n",
        "\n",
        "Hicham TALHA\n",
        "\n",
        "Enacdré par : Mr. EL AACHAK Lotfi\n",
        "\n",
        "Atelier 1"
      ],
      "metadata": {
        "id": "k1jRNlbCRd_w"
      }
    },
    {
      "cell_type": "markdown",
      "source": [
        "Ex1- Ecrire une fonction qui renvoie la puissance d’un nombre Xn"
      ],
      "metadata": {
        "id": "mNTKRLUNR1S6"
      }
    },
    {
      "cell_type": "code",
      "source": [
        "def puissance (x,n):\n",
        "  p=1\n",
        "  for i in range (n):\n",
        "    p=p*x\n",
        "  return p\n",
        "x= int(input(\"Saisir le nombre x :\"))\n",
        "n= int(input(\"Saisir la puissance n :\"))\n",
        "print(\"le nombre\",x,\"à la puissance de\",n,\"est égal:\",puissance(x,n))"
      ],
      "metadata": {
        "colab": {
          "base_uri": "https://localhost:8080/"
        },
        "id": "h6TLifR1MJi_",
        "outputId": "8bbc4b7b-1749-49f1-ea73-85e3583e529a"
      },
      "execution_count": 3,
      "outputs": [
        {
          "output_type": "stream",
          "name": "stdout",
          "text": [
            "Saisir le nombre x :2\n",
            "Saisir la puissance n :3\n",
            "le nombre 2 à la puissance de 3 est égal: 8\n"
          ]
        }
      ]
    },
    {
      "cell_type": "markdown",
      "source": [
        "Ex2- Ecrire une fonction python qui calcul la factorielle d’un nombre donné"
      ],
      "metadata": {
        "id": "kfKBpc2zR93V"
      }
    },
    {
      "cell_type": "code",
      "source": [
        "\n",
        "def fact(nbr) :\n",
        "    if nbr==0:\n",
        "       return 1\n",
        "    else :\n",
        "       return nbr*fact(nbr-1)\n",
        "nbr= int(input(\"Saisir un nombre :\"))\n",
        "print(\"la factorille du\",nbr,\"est\",fact(nbr))"
      ],
      "metadata": {
        "colab": {
          "base_uri": "https://localhost:8080/"
        },
        "id": "zTFMPCHMOZaU",
        "outputId": "730fcbba-52f5-465c-e28c-c0e0b5f57264"
      },
      "execution_count": 10,
      "outputs": [
        {
          "output_type": "stream",
          "name": "stdout",
          "text": [
            "Saisir un nombre :3\n",
            "la factorille du 3 est 6\n"
          ]
        }
      ]
    },
    {
      "cell_type": "markdown",
      "source": [
        "Ex 3 - Ecrire une fonction en Python pour trouver la somme des séries 1! / 1 + 2! / 2 + 3! / 3 +\n",
        "4! / 4 + 5! / 5 en utilisant la fonction."
      ],
      "metadata": {
        "id": "tGqgMPi-S6zm"
      }
    },
    {
      "cell_type": "code",
      "source": [
        "def SommeSeries(num):\n",
        "   res = 0\n",
        "   fact = 1\n",
        "   for i in range(1, 6):\n",
        "      fact *= i\n",
        "      res = res + (fact/ i)\n",
        "   return res\n",
        "print(\"La somme est: %d\"% SommeSeries(n))"
      ],
      "metadata": {
        "colab": {
          "base_uri": "https://localhost:8080/"
        },
        "id": "z7ZTSWVMPoTb",
        "outputId": "7a5d25f1-68c7-4e9b-bc14-c3cb1b70f840"
      },
      "execution_count": 14,
      "outputs": [
        {
          "output_type": "stream",
          "name": "stdout",
          "text": [
            "La somme est: 34\n"
          ]
        }
      ]
    },
    {
      "cell_type": "markdown",
      "source": [
        "Ex 4- Ecrire une fonction en Python pour convertir le nombre décimal en nombre binaire."
      ],
      "metadata": {
        "id": "1t7WrcGGSCY3"
      }
    },
    {
      "cell_type": "code",
      "source": [
        "def convert(n):\n",
        "    if n > 1:\n",
        "        convert(n // 2)\n",
        "    print(n % 2, end='')\n",
        "\n",
        "n = int(input(\"Entrez un nombre decimal: \"))\n",
        "print(\"Le nombre\",n,\"en base décimal équivaut à:\")\n",
        "convert(n)\n",
        "\n"
      ],
      "metadata": {
        "colab": {
          "base_uri": "https://localhost:8080/"
        },
        "id": "aRlsWO-QXE3K",
        "outputId": "3d6d3f84-40ff-40b0-fc97-c2357c786a07"
      },
      "execution_count": 55,
      "outputs": [
        {
          "output_type": "stream",
          "name": "stdout",
          "text": [
            "Entrez un nombre decimal: 10\n",
            "Le nombre 10 en base décimal équivaut à:\n",
            "1010"
          ]
        }
      ]
    },
    {
      "cell_type": "markdown",
      "source": [
        "Ex 5- Ecrire une fonction en Python pour calculer la somme des nombres de 1 à n. "
      ],
      "metadata": {
        "id": "ZlZuuchVSMUI"
      }
    },
    {
      "cell_type": "code",
      "source": [
        "def sum(n):\n",
        "    s=0\n",
        "    for i in range(0,n+1) :\n",
        "        s=s+i\n",
        "    return s\n",
        "n=int(input(\"Entrez le nombre n : \"))\n",
        "print(\"La somme de 1 jusqu'à\",n,\"est :\",sum(n))"
      ],
      "metadata": {
        "colab": {
          "base_uri": "https://localhost:8080/"
        },
        "id": "TrHotmZYFCDx",
        "outputId": "1bf39b6c-f72f-4bb5-c27b-e823b3f500b9"
      },
      "execution_count": 67,
      "outputs": [
        {
          "output_type": "stream",
          "name": "stdout",
          "text": [
            "Entrez le nombre n : 10\n",
            "La somme de 1 jusqu'à 10 est : 55\n"
          ]
        }
      ]
    },
    {
      "cell_type": "markdown",
      "source": [
        "Ex 6- Ecrire une fonction en Python pour compter les chiffres d'un nombre donné. "
      ],
      "metadata": {
        "id": "GLDT0PZmSQ6O"
      }
    },
    {
      "cell_type": "code",
      "source": [
        "def compt(n) :\n",
        "   nb=0\n",
        "   while n!=0 :\n",
        "        n= int(n/10)\n",
        "        nb+=1\n",
        "   return nb\n",
        "n= int(input(\"Entrez un Nombre :\"))\n",
        "print(\"Totale de chiffres dans le nombre \", n, \"est: \", compt(n))"
      ],
      "metadata": {
        "colab": {
          "base_uri": "https://localhost:8080/"
        },
        "id": "3DOPp_NmIltF",
        "outputId": "abb24f18-715a-40f9-95f9-ce98c9c59b48"
      },
      "execution_count": 70,
      "outputs": [
        {
          "output_type": "stream",
          "name": "stdout",
          "text": [
            "Saisir un Nombre :15\n",
            "Totale de chiffres dans le nombre  10 est:  2\n"
          ]
        }
      ]
    },
    {
      "cell_type": "markdown",
      "source": [
        "Ex 7- Ecrire une fonction Python pour trouver la fréquence d’un caractère dans une chaîne. \n"
      ],
      "metadata": {
        "id": "zjRlb58ESaUz"
      }
    },
    {
      "cell_type": "code",
      "source": [
        "from ctypes import string_at\n",
        "def freq(chaine,c):\n",
        "    i=0\n",
        "    for ch in chaine:\n",
        "        if ch==c:\n",
        "            i=i+1\n",
        "    return i\n",
        "ch = \"bonjour master dsef\" \n",
        "c= input(\"Entrez un caractére :\")\n",
        "print(freq(ch,c))"
      ],
      "metadata": {
        "colab": {
          "base_uri": "https://localhost:8080/"
        },
        "id": "KjcWUKsSJY0b",
        "outputId": "36ae537a-fda9-4953-80d1-73bc09ee9b68"
      },
      "execution_count": 82,
      "outputs": [
        {
          "output_type": "stream",
          "name": "stdout",
          "text": [
            "Entrez un caractére :r\n",
            "2\n"
          ]
        }
      ]
    },
    {
      "cell_type": "markdown",
      "source": [
        "Ex 8- Ecrire une fonction qui cherche un élément dans une matrice puis renvoi sa position «\n",
        "i,j»."
      ],
      "metadata": {
        "id": "Degs095sSkO2"
      }
    },
    {
      "cell_type": "code",
      "source": [
        "\n",
        "matrix = [[2,4,5,6] , [14,-6,9,0] , [11,0,4,1],[10,7,3,-1]]\n",
        "\n",
        "def showMatrix (matrice):\n",
        "    for i in range(len(matrice)):   #parcourir les lignes\n",
        "        for j in range(len(matrice[0])):   #parcourir les colonnes\n",
        "            print(\"%d\"%(matrice [i][j]),end =' , ')\n",
        "        print(\"\")\n",
        "showMatrix (matrix)\n",
        "print(\"================\")\n",
        "\n",
        "def find(matrix,value):\n",
        "    for i,v in enumerate(matrix):\n",
        "        if value in v:\n",
        "            return {'ligne':i+1,'colonne':v.index(value)+1}\n",
        "    return {'ligne':-1,'colonne':-1}\n",
        "print(\"le nomnbre 5 se trouve dans\",find(matrix,5))"
      ],
      "metadata": {
        "colab": {
          "base_uri": "https://localhost:8080/"
        },
        "id": "zlGj7E_ZZN9j",
        "outputId": "e04801e4-a451-4fd3-d371-ebc8cf466599"
      },
      "execution_count": 91,
      "outputs": [
        {
          "output_type": "stream",
          "name": "stdout",
          "text": [
            "2 , 4 , 5 , 6 , \n",
            "14 , -6 , 9 , 0 , \n",
            "11 , 0 , 4 , 1 , \n",
            "10 , 7 , 3 , -1 , \n",
            "================\n",
            "le nomnbre 5 se trouve dans {'ligne': 1, 'colonne': 3}\n"
          ]
        }
      ]
    },
    {
      "cell_type": "markdown",
      "source": [
        "Ex 9 - Ecrire un programme python composé de plusieurs fonctions :\n",
        "• fonction qui envoi la valeur moyenne d’une liste\n",
        "• fonction qui renvoi le min ou max selon le choix de l ‘utilisateur\n",
        "• fonction qui renvoie le médian d ‘une liste\n",
        "• fonction qui renvoi le mode d’une liste\n",
        "• fonction qui calcul la variance"
      ],
      "metadata": {
        "id": "6mQxY05qSrTT"
      }
    },
    {
      "cell_type": "code",
      "source": [
        "Liste=[4,6,7,3,8,4,4]\n",
        "\n",
        "#Calcule moyenne\n",
        "\n",
        "def moyenne(liste):\n",
        "    return (1/len(liste)) * sum(liste)\n",
        "print(\"Moyenne :\",round(moyenne(Liste),2))\n",
        "print(\"pour le Max ,tapez 1 :\")\n",
        "print(\"pour le Min ,tapez 2 :\")\n",
        "choix=int(input(\" saissez votre choix : \"))\n",
        "\n",
        "#Calcule min or max\n",
        "\n",
        "def min_list(liste):\n",
        "    min = liste[0]\n",
        "    for i in range(1, len(liste)):\n",
        "        if min > liste[i]:\n",
        "            min = liste[i]\n",
        "    return min\n",
        "\n",
        "def max_list(liste):\n",
        "    max = liste[0]\n",
        "    for i in range(1, len(liste)):\n",
        "        if max < liste[i]:\n",
        "            max = liste[i]\n",
        "    return max\n",
        "if choix== 2:\n",
        "    print(\"le minimum de la liste est : \",min_list(Liste))\n",
        "elif choix==1:\n",
        "  print(\"le maximum de la liste est :\",max_list(Liste))\n",
        "\n",
        "#Calcule Median\n",
        "\n",
        "def median(liste):\n",
        "       liste.sort()\n",
        "       if len(liste)%2 !=0:\n",
        "            median=liste[int(len(liste)/2)]\n",
        "       else:\n",
        "            median= liste[(int(len(liste)/2))-1]+  liste[int(len(liste)/2)]\n",
        "            median = median/2\n",
        "       return median \n",
        "\n",
        "#Calcule Mode\n",
        "\n",
        "def mode(liste):\n",
        "    counter=0\n",
        "    num=liste[0]\n",
        "    for i in (liste):\n",
        "        frequence=liste.count(i)\n",
        "        if(frequence>counter):\n",
        "            counter=frequence\n",
        "            num=i\n",
        "            if len(set(liste))==len(liste):\n",
        "                return 'no mode'\n",
        "            return num\n",
        "\n",
        "#Calcule Variance\n",
        "\n",
        "def variance(liste):\n",
        "    moy = moyenne(liste)\n",
        "    var = 0\n",
        "\n",
        "    for nb in liste:\n",
        "        var += (nb - moy)**2\n",
        "    return var / len(liste)\n",
        "\n",
        "print(\"Median :\",median(Liste))\n",
        "print(\"Mode :\",mode(Liste))\n",
        "print(\"Variance :\",round(variance(Liste),2))\n"
      ],
      "metadata": {
        "colab": {
          "base_uri": "https://localhost:8080/"
        },
        "id": "qKZChLJo_R1k",
        "outputId": "9693e43a-211f-4b41-c100-4edcf2d1aa52"
      },
      "execution_count": 12,
      "outputs": [
        {
          "output_type": "stream",
          "name": "stdout",
          "text": [
            "Moyenne : 5.14\n",
            "pour le Max ,tapez 1 :\n",
            "pour le Min ,tapez 2 :\n",
            " saissez votre choix : 2\n",
            "le minimum de la liste est :  3\n",
            "Median : 4\n",
            "Mode : 3\n",
            "Variance : 2.98\n"
          ]
        }
      ]
    }
  ],
  "metadata": {
    "colab": {
      "provenance": [],
      "include_colab_link": true
    },
    "kernelspec": {
      "display_name": "Python 3",
      "name": "python3"
    }
  },
  "nbformat": 4,
  "nbformat_minor": 0
}